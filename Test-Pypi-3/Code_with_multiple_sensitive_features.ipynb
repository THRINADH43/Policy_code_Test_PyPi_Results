{
 "cells": [
  {
   "cell_type": "code",
   "execution_count": 1,
   "metadata": {},
   "outputs": [],
   "source": [
    "# Import all the required files\n",
    "import pureml\n",
    "from pureml.decorators import load_data,transformer,dataset,model\n",
    "import numpy as np\n",
    "import pandas as pd\n",
    "import lightgbm as lgb\n",
    "from sklearn.pipeline import Pipeline\n",
    "from sklearn.preprocessing import StandardScaler\n",
    "from sklearn.model_selection import train_test_split\n",
    "import warnings\n",
    "import random\n",
    "\n",
    "warnings.simplefilter(\"ignore\")\n",
    "rand_seed = 1234\n",
    "np.random.seed(rand_seed)"
   ]
  },
  {
   "cell_type": "code",
   "execution_count": 2,
   "metadata": {},
   "outputs": [],
   "source": [
    "@load_data()\n",
    "def load_dataset():\n",
    "    # df = pd.read_excel(io='default of credit card clients.xls',header  = 1)\n",
    "    df = pd.read_csv('default of credit card clients.csv', header=1)\n",
    "\n",
    "    return df"
   ]
  },
  {
   "cell_type": "code",
   "execution_count": 3,
   "metadata": {},
   "outputs": [],
   "source": [
    "@transformer()\n",
    "def remove_columns(df):\n",
    "    return df.drop(['ID'],axis =1)"
   ]
  },
  {
   "cell_type": "code",
   "execution_count": 4,
   "metadata": {},
   "outputs": [],
   "source": [
    "@transformer()\n",
    "def rename_columns(df):\n",
    "    return df.rename(columns={\"PAY_0\": \"PAY_1\",\"default payment next month\":\"default\", \"SEX\":\"sex\"})    "
   ]
  },
  {
   "cell_type": "code",
   "execution_count": 5,
   "metadata": {},
   "outputs": [],
   "source": [
    "@transformer()\n",
    "def dataset_imbalances(df):\n",
    "    categorical_features = [\"sex\", \"EDUCATION\", \"MARRIAGE\"]\n",
    "\n",
    "    for col_name in categorical_features:\n",
    "        df[col_name] = df[col_name].astype(\"category\")\n",
    "\n",
    "    Y, A = df.loc[:, \"default\"], df.loc[:, \"sex\"]\n",
    "    X = pd.get_dummies(df.drop(columns=[\"default\", \"sex\"]))\n",
    "\n",
    "\n",
    "    A_str = A.map({1: \"male\", 2: \"female\"})\n",
    "\n",
    "    A_str.value_counts(normalize=True)\n",
    "    Y.value_counts(normalize=True)\n",
    "    \n",
    "    # Generate \"Interest\" column as a DataFrame\n",
    "    interest_values = np.random.normal(loc=2 * Y, scale=A)\n",
    "    interest_column = pd.DataFrame(interest_values, columns=[\"Interest\"])\n",
    "\n",
    "    # Concatenate \"Interest\" column with X DataFrame\n",
    "    X = pd.concat([X, interest_column], axis=1)\n",
    "\n",
    "    return {'X':X,'Y':Y,'A_str':A_str}\n"
   ]
  },
  {
   "cell_type": "code",
   "execution_count": 6,
   "metadata": {},
   "outputs": [],
   "source": [
    "@transformer()\n",
    "def resample_training_data(X_train, Y_train, A_train):\n",
    "   \n",
    "    negative_ids = Y_train[Y_train == 0].index\n",
    "    positive_ids = Y_train[Y_train == 1].index\n",
    "    balanced_ids = positive_ids.union(\n",
    "        np.random.choice(a=negative_ids, size=len(positive_ids)))\n",
    "\n",
    "    X_train = X_train.loc[balanced_ids, :]\n",
    "    Y_train = Y_train.loc[balanced_ids]\n",
    "    A_train = A_train.loc[balanced_ids]\n",
    "    return  {\"X_train\": X_train, \"Y_train\":Y_train, \"A_train\": A_train}\n",
    "\n"
   ]
  },
  {
   "cell_type": "code",
   "execution_count": 7,
   "metadata": {},
   "outputs": [],
   "source": [
    "\n",
    "@transformer()\n",
    "def add_new_column(sensitive_features):\n",
    "    values = ['Indian', 'African', 'American']\n",
    "\n",
    "    list_length = sensitive_features.shape[0]\n",
    "    full_list = values * (list_length // len(values))\n",
    "    full_list += values[:list_length % len(values)]\n",
    "    random.shuffle(full_list)\n",
    "\n",
    "    full_list = np.array(full_list)\n",
    "\n",
    "    s_feat = pd.concat([sensitive_features.reset_index(drop=True), pd.DataFrame(full_list, columns=['race'])], axis=1)\n",
    "\n",
    "    return s_feat"
   ]
  },
  {
   "cell_type": "code",
   "execution_count": 8,
   "metadata": {},
   "outputs": [
    {
     "data": {
      "text/html": [
       "<pre style=\"white-space:pre;overflow-x:auto;line-height:normal;font-family:Menlo,'DejaVu Sans Mono',consolas,'Courier New',monospace\"><span style=\"color: #800000; text-decoration-color: #800000; font-weight: bold\">Dataset details have not been found</span>\n",
       "</pre>\n"
      ],
      "text/plain": [
       "\u001b[1;31mDataset details have not been found\u001b[0m\n"
      ]
     },
     "metadata": {},
     "output_type": "display_data"
    },
    {
     "data": {
      "text/html": [
       "<pre style=\"white-space:pre;overflow-x:auto;line-height:normal;font-family:Menlo,'DejaVu Sans Mono',consolas,'Courier New',monospace\"><span style=\"color: #008000; text-decoration-color: #008000; font-weight: bold\">Dataset has been created!</span>\n",
       "</pre>\n"
      ],
      "text/plain": [
       "\u001b[1;32mDataset has been created!\u001b[0m\n"
      ]
     },
     "metadata": {},
     "output_type": "display_data"
    },
    {
     "data": {
      "text/html": [
       "<pre style=\"white-space:pre;overflow-x:auto;line-height:normal;font-family:Menlo,'DejaVu Sans Mono',consolas,'Courier New',monospace\">Hash :  fdef4116272b4d04a0ed1e19144d10f7\n",
       "</pre>\n"
      ],
      "text/plain": [
       "Hash :  fdef4116272b4d04a0ed1e19144d10f7\n"
      ]
     },
     "metadata": {},
     "output_type": "display_data"
    },
    {
     "data": {
      "text/html": [
       "<pre style=\"white-space:pre;overflow-x:auto;line-height:normal;font-family:Menlo,'DejaVu Sans Mono',consolas,'Courier New',monospace\">Version:  v1\n",
       "</pre>\n"
      ],
      "text/plain": [
       "Version:  v1\n"
      ]
     },
     "metadata": {},
     "output_type": "display_data"
    },
    {
     "data": {
      "text/html": [
       "<pre style=\"white-space:pre;overflow-x:auto;line-height:normal;font-family:Menlo,'DejaVu Sans Mono',consolas,'Courier New',monospace\">Dataset label:  temp_123_3:v1\n",
       "</pre>\n"
      ],
      "text/plain": [
       "Dataset label:  temp_123_3:v1\n"
      ]
     },
     "metadata": {},
     "output_type": "display_data"
    },
    {
     "data": {
      "text/html": [
       "<pre style=\"white-space:pre;overflow-x:auto;line-height:normal;font-family:Menlo,'DejaVu Sans Mono',consolas,'Courier New',monospace\"><span style=\"color: #008000; text-decoration-color: #008000; font-weight: bold\">Dataset and lineage have been registered!</span>\n",
       "</pre>\n"
      ],
      "text/plain": [
       "\u001b[1;32mDataset and lineage have been registered!\u001b[0m\n"
      ]
     },
     "metadata": {},
     "output_type": "display_data"
    }
   ],
   "source": [
    "@dataset(label='temp_123_3',upload=True)\n",
    "def create_dataset():\n",
    "    df = load_dataset()\n",
    "    df = remove_columns(df)\n",
    "    df = rename_columns(df)\n",
    "    data  = dataset_imbalances(df)\n",
    "    X,Y,A_str = data['X'],data['Y'],data['A_str']\n",
    "    X_train, X_test, y_train, y_test, A_train, A_test = train_test_split(X, Y, A_str, test_size=0.35, stratify=Y)\n",
    "    data = resample_training_data(X_train, y_train, A_train)\n",
    "    X_train, y_train, A_train = data['X_train'],data['Y_train'],data['A_train']\n",
    "\n",
    "    A_test = add_new_column(sensitive_features=A_test)\n",
    "\n",
    "    return {\"x_train\":X_train,\"y_train\":y_train.to_numpy(),\"x_test\":X_test,\"y_test\":y_test.to_numpy(),\"sensitive_features\" : A_test}\n",
    "\n",
    "\n",
    "data_created = create_dataset()"
   ]
  },
  {
   "cell_type": "code",
   "execution_count": 9,
   "metadata": {},
   "outputs": [
    {
     "name": "stdout",
     "output_type": "stream",
     "text": [
      "(10500, 2)\n",
      "(10500, 32)\n",
      "(10500,)\n"
     ]
    }
   ],
   "source": [
    "print(data_created[\"sensitive_features\"].shape)\n",
    "print(data_created[\"x_test\"].shape)\n",
    "print(data_created[\"y_test\"].shape)"
   ]
  },
  {
   "cell_type": "code",
   "execution_count": 10,
   "metadata": {},
   "outputs": [
    {
     "name": "stdout",
     "output_type": "stream",
     "text": [
      "[LightGBM] [Info] Number of positive: 4313, number of negative: 4313\n",
      "[LightGBM] [Info] Auto-choosing row-wise multi-threading, the overhead of testing was 0.002328 seconds.\n",
      "You can set `force_row_wise=true` to remove the overhead.\n",
      "And if memory is not enough, you can set `force_col_wise=true`.\n",
      "[LightGBM] [Info] Total Bins 3523\n",
      "[LightGBM] [Info] Number of data points in the train set: 8626, number of used features: 29\n",
      "[LightGBM] [Info] [binary:BoostFromScore]: pavg=0.500000 -> initscore=0.000000\n",
      "[LightGBM] [Warning] No further splits with positive gain, best gain: -inf\n",
      "[LightGBM] [Warning] No further splits with positive gain, best gain: -inf\n",
      "[LightGBM] [Warning] No further splits with positive gain, best gain: -inf\n",
      "[LightGBM] [Warning] No further splits with positive gain, best gain: -inf\n",
      "[LightGBM] [Warning] No further splits with positive gain, best gain: -inf\n",
      "[LightGBM] [Warning] No further splits with positive gain, best gain: -inf\n",
      "[LightGBM] [Warning] No further splits with positive gain, best gain: -inf\n",
      "[LightGBM] [Warning] No further splits with positive gain, best gain: -inf\n",
      "[LightGBM] [Warning] No further splits with positive gain, best gain: -inf\n",
      "[LightGBM] [Warning] No further splits with positive gain, best gain: -inf\n",
      "[LightGBM] [Warning] No further splits with positive gain, best gain: -inf\n",
      "[LightGBM] [Warning] No further splits with positive gain, best gain: -inf\n",
      "[LightGBM] [Warning] No further splits with positive gain, best gain: -inf\n",
      "[LightGBM] [Warning] No further splits with positive gain, best gain: -inf\n",
      "[LightGBM] [Warning] No further splits with positive gain, best gain: -inf\n",
      "[LightGBM] [Warning] No further splits with positive gain, best gain: -inf\n",
      "[LightGBM] [Warning] No further splits with positive gain, best gain: -inf\n",
      "[LightGBM] [Warning] No further splits with positive gain, best gain: -inf\n",
      "[LightGBM] [Warning] No further splits with positive gain, best gain: -inf\n",
      "[LightGBM] [Warning] No further splits with positive gain, best gain: -inf\n",
      "[LightGBM] [Warning] No further splits with positive gain, best gain: -inf\n",
      "[LightGBM] [Warning] No further splits with positive gain, best gain: -inf\n",
      "[LightGBM] [Warning] No further splits with positive gain, best gain: -inf\n",
      "[LightGBM] [Warning] No further splits with positive gain, best gain: -inf\n",
      "[LightGBM] [Warning] No further splits with positive gain, best gain: -inf\n",
      "[LightGBM] [Warning] No further splits with positive gain, best gain: -inf\n",
      "[LightGBM] [Warning] No further splits with positive gain, best gain: -inf\n",
      "[LightGBM] [Warning] No further splits with positive gain, best gain: -inf\n",
      "[LightGBM] [Warning] No further splits with positive gain, best gain: -inf\n",
      "[LightGBM] [Warning] No further splits with positive gain, best gain: -inf\n",
      "[LightGBM] [Warning] No further splits with positive gain, best gain: -inf\n",
      "[LightGBM] [Warning] No further splits with positive gain, best gain: -inf\n",
      "[LightGBM] [Warning] No further splits with positive gain, best gain: -inf\n",
      "[LightGBM] [Warning] No further splits with positive gain, best gain: -inf\n",
      "[LightGBM] [Warning] No further splits with positive gain, best gain: -inf\n",
      "[LightGBM] [Warning] No further splits with positive gain, best gain: -inf\n",
      "[LightGBM] [Warning] No further splits with positive gain, best gain: -inf\n",
      "[LightGBM] [Warning] No further splits with positive gain, best gain: -inf\n"
     ]
    },
    {
     "data": {
      "text/html": [
       "<pre style=\"white-space:pre;overflow-x:auto;line-height:normal;font-family:Menlo,'DejaVu Sans Mono',consolas,'Courier New',monospace\"><span style=\"color: #800000; text-decoration-color: #800000; font-weight: bold\">Model details have not been found</span>\n",
       "</pre>\n"
      ],
      "text/plain": [
       "\u001b[1;31mModel details have not been found\u001b[0m\n"
      ]
     },
     "metadata": {},
     "output_type": "display_data"
    },
    {
     "data": {
      "text/html": [
       "<pre style=\"white-space:pre;overflow-x:auto;line-height:normal;font-family:Menlo,'DejaVu Sans Mono',consolas,'Courier New',monospace\"><span style=\"color: #008000; text-decoration-color: #008000; font-weight: bold\">Model has been created!</span>\n",
       "</pre>\n"
      ],
      "text/plain": [
       "\u001b[1;32mModel has been created!\u001b[0m\n"
      ]
     },
     "metadata": {},
     "output_type": "display_data"
    },
    {
     "data": {
      "text/html": [
       "<pre style=\"white-space:pre;overflow-x:auto;line-height:normal;font-family:Menlo,'DejaVu Sans Mono',consolas,'Courier New',monospace\">model_created <span style=\"color: #00ff00; text-decoration-color: #00ff00; font-style: italic\">True</span>\n",
       "</pre>\n"
      ],
      "text/plain": [
       "model_created \u001b[3;92mTrue\u001b[0m\n"
      ]
     },
     "metadata": {},
     "output_type": "display_data"
    },
    {
     "data": {
      "text/html": [
       "<pre style=\"white-space:pre;overflow-x:auto;line-height:normal;font-family:Menlo,'DejaVu Sans Mono',consolas,'Courier New',monospace\"><span style=\"color: #008000; text-decoration-color: #008000; font-weight: bold\">Model has been registered!</span>\n",
       "</pre>\n"
      ],
      "text/plain": [
       "\u001b[1;32mModel has been registered!\u001b[0m\n"
      ]
     },
     "metadata": {},
     "output_type": "display_data"
    },
    {
     "data": {
      "text/html": [
       "<pre style=\"white-space:pre;overflow-x:auto;line-height:normal;font-family:Menlo,'DejaVu Sans Mono',consolas,'Courier New',monospace\">Model Version:  v1\n",
       "</pre>\n"
      ],
      "text/plain": [
       "Model Version:  v1\n"
      ]
     },
     "metadata": {},
     "output_type": "display_data"
    },
    {
     "data": {
      "text/html": [
       "<pre style=\"white-space:pre;overflow-x:auto;line-height:normal;font-family:Menlo,'DejaVu Sans Mono',consolas,'Courier New',monospace\">Model label:  temp_model_123_3:v1\n",
       "</pre>\n"
      ],
      "text/plain": [
       "Model label:  temp_model_123_3:v1\n"
      ]
     },
     "metadata": {},
     "output_type": "display_data"
    },
    {
     "name": "stdout",
     "output_type": "stream",
     "text": [
      "No metrics are found in config\n"
     ]
    },
    {
     "data": {
      "text/html": [
       "<pre style=\"white-space:pre;overflow-x:auto;line-height:normal;font-family:Menlo,'DejaVu Sans Mono',consolas,'Courier New',monospace\"><span style=\"color: #008000; text-decoration-color: #008000; font-weight: bold\">Params have been registered!</span>\n",
       "</pre>\n"
      ],
      "text/plain": [
       "\u001b[1;32mParams have been registered!\u001b[0m\n"
      ]
     },
     "metadata": {},
     "output_type": "display_data"
    },
    {
     "name": "stdout",
     "output_type": "stream",
     "text": [
      "No figures are found in config\n"
     ]
    }
   ],
   "source": [
    "@model(label='temp_model_123_3')\n",
    "def create_model():\n",
    "    data = pureml.dataset.fetch('temp_123_3:v1')\n",
    "    x_train = data['x_train']\n",
    "    y_train = data['y_train']\n",
    "    lgb_params = {\n",
    "    \"objective\": \"binary\",\n",
    "    \"metric\": \"auc\",\n",
    "    \"learning_rate\": 0.412,\n",
    "    \"num_leaves\": 10,\n",
    "    \"max_depth\": 3,\n",
    "    \"random_state\": rand_seed,\n",
    "    \"n_jobs\": 1,}\n",
    "\n",
    "    pureml.log(params=lgb_params)\n",
    "    estimator = Pipeline(\n",
    "        steps=[\n",
    "            (\"preprocessing\", StandardScaler()),\n",
    "            (\"classifier\", lgb.LGBMClassifier(**lgb_params)),\n",
    "        ]\n",
    "    )\n",
    "\n",
    "    estimator.fit(x_train, y_train)\n",
    "    return estimator\n",
    "\n",
    "model_lgb = create_model()"
   ]
  },
  {
   "cell_type": "code",
   "execution_count": 11,
   "metadata": {},
   "outputs": [
    {
     "data": {
      "text/html": [
       "<pre style=\"white-space:pre;overflow-x:auto;line-height:normal;font-family:Menlo,'DejaVu Sans Mono',consolas,'Courier New',monospace\"><span style=\"color: #008000; text-decoration-color: #008000; font-weight: bold\">Predict Function has been registered!</span>\n",
       "</pre>\n"
      ],
      "text/plain": [
       "\u001b[1;32mPredict Function has been registered!\u001b[0m\n"
      ]
     },
     "metadata": {},
     "output_type": "display_data"
    },
    {
     "data": {
      "text/html": [
       "<pre style=\"white-space:pre;overflow-x:auto;line-height:normal;font-family:Menlo,'DejaVu Sans Mono',consolas,'Courier New',monospace\"><span style=\"font-weight: bold\">{</span><span style=\"color: #008000; text-decoration-color: #008000\">\"status\"</span>:<span style=\"color: #008080; text-decoration-color: #008080; font-weight: bold\">200</span>,<span style=\"color: #008000; text-decoration-color: #008000\">\"data\"</span>:<span style=\"font-weight: bold\">[{</span><span style=\"color: #008000; text-decoration-color: #008000\">\"key\"</span>:<span style=\"color: #008000; text-decoration-color: #008000\">\"predict\"</span>,<span style=\"color: #008000; text-decoration-color: #008000\">\"data\"</span>:<span style=\"color: #008000; text-decoration-color: #008000\">\"pureml_data/predict.py\"</span>,<span style=\"color: #008000; text-decoration-color: #008000\">\"model_version\"</span>:<span style=\"font-weight: bold\">{</span><span style=\"color: #008000; text-decoration-color: #008000\">\"uuid\"</span>:<span style=\"color: #008000; text-decoration-color: #008000\">\"5228b90d-ad8d-4446-</span>\n",
       "<span style=\"color: #008000; text-decoration-color: #008000\">a861-e09cc6224ee1\"</span>,<span style=\"color: #008000; text-decoration-color: #008000\">\"version\"</span>:<span style=\"color: #008000; text-decoration-color: #008000\">\"v1\"</span><span style=\"font-weight: bold\">}</span>,<span style=\"color: #008000; text-decoration-color: #008000\">\"dataset_version\"</span>:<span style=\"font-weight: bold\">{</span><span style=\"color: #008000; text-decoration-color: #008000\">\"uuid\"</span>:<span style=\"color: #008000; text-decoration-color: #008000\">\"00000000-0000-0000-0000-000000000000\"</span>,<span style=\"color: #008000; text-decoration-color: #008000\">\"version\"</span>:<span style=\"color: #008000; text-decoration-color: #008000\">\"\"</span><span style=\"font-weight: bold\">}}]</span>\n",
       ",<span style=\"color: #008000; text-decoration-color: #008000\">\"message\"</span>:<span style=\"color: #008000; text-decoration-color: #008000\">\"Logs created\"</span><span style=\"font-weight: bold\">}</span>\n",
       "</pre>\n"
      ],
      "text/plain": [
       "\u001b[1m{\u001b[0m\u001b[32m\"status\"\u001b[0m:\u001b[1;36m200\u001b[0m,\u001b[32m\"data\"\u001b[0m:\u001b[1m[\u001b[0m\u001b[1m{\u001b[0m\u001b[32m\"key\"\u001b[0m:\u001b[32m\"predict\"\u001b[0m,\u001b[32m\"data\"\u001b[0m:\u001b[32m\"pureml_data/predict.py\"\u001b[0m,\u001b[32m\"model_version\"\u001b[0m:\u001b[1m{\u001b[0m\u001b[32m\"uuid\"\u001b[0m:\u001b[32m\"5228b90d-ad8d-4446-\u001b[0m\n",
       "\u001b[32ma861-e09cc6224ee1\"\u001b[0m,\u001b[32m\"version\"\u001b[0m:\u001b[32m\"v1\"\u001b[0m\u001b[1m}\u001b[0m,\u001b[32m\"dataset_version\"\u001b[0m:\u001b[1m{\u001b[0m\u001b[32m\"uuid\"\u001b[0m:\u001b[32m\"00000000-0000-0000-0000-000000000000\"\u001b[0m,\u001b[32m\"version\"\u001b[0m:\u001b[32m\"\"\u001b[0m\u001b[1m}\u001b[0m\u001b[1m}\u001b[0m\u001b[1m]\u001b[0m\n",
       ",\u001b[32m\"message\"\u001b[0m:\u001b[32m\"Logs created\"\u001b[0m\u001b[1m}\u001b[0m\n"
      ]
     },
     "metadata": {},
     "output_type": "display_data"
    }
   ],
   "source": [
    "pureml.predict.add(label='temp_model_123_3:v1',paths={'predict':'predict.py'})"
   ]
  },
  {
   "cell_type": "code",
   "execution_count": 12,
   "metadata": {},
   "outputs": [
    {
     "data": {
      "text/plain": [
       "'0.2.2'"
      ]
     },
     "execution_count": 12,
     "metadata": {},
     "output_type": "execute_result"
    }
   ],
   "source": [
    "import pureml_policy\n",
    "pureml_policy.__version__"
   ]
  },
  {
   "cell_type": "code",
   "execution_count": 14,
   "metadata": {},
   "outputs": [
    {
     "data": {
      "text/html": [
       "<pre style=\"white-space:pre;overflow-x:auto;line-height:normal;font-family:Menlo,'DejaVu Sans Mono',consolas,'Courier New',monospace\"><span style=\"color: #008000; text-decoration-color: #008000; font-weight: bold\"> Succesfully fetched the dataset</span>\n",
       "</pre>\n"
      ],
      "text/plain": [
       "\u001b[1;32m Succesfully fetched the dataset\u001b[0m\n"
      ]
     },
     "metadata": {},
     "output_type": "display_data"
    },
    {
     "data": {
      "text/html": [
       "<pre style=\"white-space:pre;overflow-x:auto;line-height:normal;font-family:Menlo,'DejaVu Sans Mono',consolas,'Courier New',monospace\"><span style=\"color: #008000; text-decoration-color: #008000; font-weight: bold\"> Succesfully fetched the predictor</span>\n",
       "</pre>\n"
      ],
      "text/plain": [
       "\u001b[1;32m Succesfully fetched the predictor\u001b[0m\n"
      ]
     },
     "metadata": {},
     "output_type": "display_data"
    },
    {
     "data": {
      "text/html": [
       "<pre style=\"white-space:pre;overflow-x:auto;line-height:normal;font-family:Menlo,'DejaVu Sans Mono',consolas,'Courier New',monospace\"><span style=\"color: #008000; text-decoration-color: #008000; font-weight: bold\"> Succesfully fetched the model</span>\n",
       "</pre>\n"
      ],
      "text/plain": [
       "\u001b[1;32m Succesfully fetched the model\u001b[0m\n"
      ]
     },
     "metadata": {},
     "output_type": "display_data"
    },
    {
     "data": {
      "text/html": [
       "<pre style=\"white-space:pre;overflow-x:auto;line-height:normal;font-family:Menlo,'DejaVu Sans Mono',consolas,'Courier New',monospace\">Dataset Keys: <span style=\"color: #800080; text-decoration-color: #800080; font-weight: bold\">dict_keys</span><span style=\"font-weight: bold\">([</span><span style=\"color: #008000; text-decoration-color: #008000\">'x_train'</span>, <span style=\"color: #008000; text-decoration-color: #008000\">'y_train'</span>, <span style=\"color: #008000; text-decoration-color: #008000\">'x_test'</span>, <span style=\"color: #008000; text-decoration-color: #008000\">'y_test'</span>, <span style=\"color: #008000; text-decoration-color: #008000\">'sensitive_features'</span><span style=\"font-weight: bold\">])</span>\n",
       "</pre>\n"
      ],
      "text/plain": [
       "Dataset Keys: \u001b[1;35mdict_keys\u001b[0m\u001b[1m(\u001b[0m\u001b[1m[\u001b[0m\u001b[32m'x_train'\u001b[0m, \u001b[32m'y_train'\u001b[0m, \u001b[32m'x_test'\u001b[0m, \u001b[32m'y_test'\u001b[0m, \u001b[32m'sensitive_features'\u001b[0m\u001b[1m]\u001b[0m\u001b[1m)\u001b[0m\n"
      ]
     },
     "metadata": {},
     "output_type": "display_data"
    },
    {
     "name": "stdout",
     "output_type": "stream",
     "text": [
      "'balanced_accuracy'\n",
      "argument of type 'NoneType' is not iterable\n",
      "'balanced_acc_error'\n",
      "argument of type 'NoneType' is not iterable\n",
      "'disparate_impact'\n",
      "argument of type 'NoneType' is not iterable\n",
      "Unable to compute disparate_impact\n",
      "too many indices for array: array is 1-dimensional, but 2 were indexed\n",
      "Exception : list indices must be integers or slices, not str\n",
      "'demographic_parity_difference'\n",
      "argument of type 'NoneType' is not iterable\n",
      "'balanced_accuracy'\n",
      "argument of type 'NoneType' is not iterable\n",
      "'balanced_acc_error'\n",
      "argument of type 'NoneType' is not iterable\n",
      "'disparate_impact'\n",
      "argument of type 'NoneType' is not iterable\n",
      "Unable to compute disparate_impact\n",
      "'<' not supported between instances of 'dict' and 'dict'\n",
      "Exception : list indices must be integers or slices, not str\n",
      "'demographic_parity_difference'\n",
      "argument of type 'NoneType' is not iterable\n",
      "Unable to compute demographic_parity_difference\n",
      "Feature lists must be of scalar types\n",
      "Exception : list indices must be integers or slices, not str\n",
      "'balanced_accuracy'\n",
      "argument of type 'NoneType' is not iterable\n",
      "'balanced_acc_error'\n",
      "argument of type 'NoneType' is not iterable\n",
      "'disparate_impact'\n",
      "argument of type 'NoneType' is not iterable\n",
      "Unable to compute disparate_impact\n",
      "'<' not supported between instances of 'dict' and 'dict'\n",
      "Exception : list indices must be integers or slices, not str\n",
      "'demographic_parity_difference'\n",
      "argument of type 'NoneType' is not iterable\n",
      "Unable to compute demographic_parity_difference\n",
      "Feature lists must be of scalar types\n",
      "Exception : list indices must be integers or slices, not str\n",
      "'balanced_accuracy'\n",
      "argument of type 'NoneType' is not iterable\n",
      "'balanced_acc_error'\n",
      "argument of type 'NoneType' is not iterable\n",
      "'disparate_impact'\n",
      "argument of type 'NoneType' is not iterable\n",
      "Unable to compute disparate_impact\n",
      "'<' not supported between instances of 'dict' and 'dict'\n",
      "Exception : list indices must be integers or slices, not str\n",
      "'demographic_parity_difference'\n",
      "argument of type 'NoneType' is not iterable\n",
      "Unable to compute demographic_parity_difference\n",
      "Feature lists must be of scalar types\n",
      "Exception : list indices must be integers or slices, not str\n",
      "'balanced_accuracy'\n",
      "argument of type 'NoneType' is not iterable\n",
      "'balanced_acc_error'\n",
      "argument of type 'NoneType' is not iterable\n",
      "'disparate_impact'\n",
      "argument of type 'NoneType' is not iterable\n",
      "Unable to compute disparate_impact\n",
      "'<' not supported between instances of 'dict' and 'dict'\n",
      "Exception : list indices must be integers or slices, not str\n",
      "'demographic_parity_difference'\n",
      "argument of type 'NoneType' is not iterable\n",
      "Unable to compute demographic_parity_difference\n",
      "Feature lists must be of scalar types\n",
      "Exception : list indices must be integers or slices, not str\n",
      "'balanced_accuracy'\n",
      "argument of type 'NoneType' is not iterable\n",
      "'balanced_acc_error'\n",
      "argument of type 'NoneType' is not iterable\n",
      "'disparate_impact'\n",
      "argument of type 'NoneType' is not iterable\n",
      "Unable to compute disparate_impact\n",
      "'<' not supported between instances of 'dict' and 'dict'\n",
      "Exception : list indices must be integers or slices, not str\n",
      "'demographic_parity_difference'\n",
      "argument of type 'NoneType' is not iterable\n",
      "Unable to compute demographic_parity_difference\n",
      "Feature lists must be of scalar types\n",
      "Exception : list indices must be integers or slices, not str\n",
      "'balanced_accuracy'\n",
      "argument of type 'NoneType' is not iterable\n",
      "'balanced_acc_error'\n",
      "argument of type 'NoneType' is not iterable\n",
      "'disparate_impact'\n",
      "argument of type 'NoneType' is not iterable\n",
      "Unable to compute disparate_impact\n",
      "'<' not supported between instances of 'dict' and 'dict'\n",
      "Exception : list indices must be integers or slices, not str\n",
      "'demographic_parity_difference'\n",
      "argument of type 'NoneType' is not iterable\n",
      "Unable to compute demographic_parity_difference\n",
      "Feature lists must be of scalar types\n",
      "Exception : list indices must be integers or slices, not str\n"
     ]
    }
   ],
   "source": [
    "from pureml_policy import policy_eval\n",
    "#policy = faircredit\n",
    "results = policy_eval.eval(framework_name  = \"nyc144\",\n",
    "            label_model='temp_model_123_3:v1',\n",
    "            label_dataset='temp_123_3:v1')"
   ]
  },
  {
   "cell_type": "code",
   "execution_count": 16,
   "metadata": {},
   "outputs": [
    {
     "data": {
      "text/plain": [
       "{'model': 'temp_model_123_3',\n",
       " 'model_version': 'v1',\n",
       " 'dataset': 'temp_123_3',\n",
       " 'dataset_version': 'v1',\n",
       " 'result': [{'complete': {'complete': {'operational': {'accuracy': 'pass',\n",
       "      'precision': 'pass',\n",
       "      'recall': 'fail',\n",
       "      'f1': 'fail'},\n",
       "     'fairness': {'balanced_accuracy': 'fail',\n",
       "      'balanced_acc_error': 'fail',\n",
       "      'demographic_parity_difference': 'fail'},\n",
       "     'operational_scores': {'accuracy': '0.7902857142857143',\n",
       "      'precision': '0.8011192423590185',\n",
       "      'recall': '0.5168008886420439',\n",
       "      'f1': '0.6282916948008103'},\n",
       "     'fairness_scores': {'balanced_accuracy': '0.7941636324305794',\n",
       "      'balanced_acc_error': '0.009249067740303738',\n",
       "      'demographic_parity_difference': '0.05995385011830301'},\n",
       "     'operational_thresholds': {'accuracy': '0.7',\n",
       "      'precision': '0.8',\n",
       "      'recall': '0.8',\n",
       "      'f1': '0.7'},\n",
       "     'fairness_thresholds': {'balanced_accuracy': '0.8',\n",
       "      'balanced_acc_error': '0.7',\n",
       "      'demographic_parity_difference': '0.8'}}},\n",
       "   'subsets': {(('sex', 'male'),\n",
       "     ('race', 'African')): {'operational': {'accuracy': 'pass',\n",
       "      'precision': 'pass',\n",
       "      'recall': 'fail',\n",
       "      'f1': 'pass'}, 'fairness': {'balanced_accuracy': 'pass',\n",
       "      'balanced_acc_error': 'fail'}, 'operational_scores': {'accuracy': '0.8600999286224126',\n",
       "      'precision': '0.8484848484848485',\n",
       "      'recall': '0.6859688195991092',\n",
       "      'f1': '0.7586206896551725'}, 'fairness_scores': {'balanced_accuracy': '0.8563233490979156',\n",
       "      'balanced_acc_error': '0.02118350869004815'}, 'operational_thresholds': {'accuracy': '0.7',\n",
       "      'precision': '0.8',\n",
       "      'recall': '0.8',\n",
       "      'f1': '0.7'}, 'fairness_thresholds': {'balanced_accuracy': '0.8',\n",
       "      'balanced_acc_error': '0.7'}},\n",
       "    (('sex', 'male'),\n",
       "     ('race', 'American')): {'operational': {'accuracy': 'pass',\n",
       "      'precision': 'pass',\n",
       "      'recall': 'fail',\n",
       "      'f1': 'pass'}, 'fairness': {'balanced_accuracy': 'pass',\n",
       "      'balanced_acc_error': 'fail'}, 'operational_scores': {'accuracy': '0.8390804597701149',\n",
       "      'precision': '0.8393939393939394',\n",
       "      'recall': '0.6183035714285714',\n",
       "      'f1': '0.712082262210797'}, 'fairness_scores': {'balanced_accuracy': '0.8391884951206985',\n",
       "      'balanced_acc_error': '0.022682804847256332'}, 'operational_thresholds': {'accuracy': '0.7',\n",
       "      'precision': '0.8',\n",
       "      'recall': '0.8',\n",
       "      'f1': '0.7'}, 'fairness_thresholds': {'balanced_accuracy': '0.8',\n",
       "      'balanced_acc_error': '0.7'}},\n",
       "    (('sex', 'female'),\n",
       "     ('race', 'American')): {'operational': {'accuracy': 'pass',\n",
       "      'precision': 'fail',\n",
       "      'recall': 'fail',\n",
       "      'f1': 'fail'}, 'fairness': {'balanced_accuracy': 'fail',\n",
       "      'balanced_acc_error': 'fail'}, 'operational_scores': {'accuracy': '0.7495256166982922',\n",
       "      'precision': '0.7835990888382688',\n",
       "      'recall': '0.44272844272844275',\n",
       "      'f1': '0.5657894736842106'}, 'fairness_scores': {'balanced_accuracy': '0.7620811501710817',\n",
       "      'balanced_acc_error': '0.021943778380310433'}, 'operational_thresholds': {'accuracy': '0.7',\n",
       "      'precision': '0.8',\n",
       "      'recall': '0.8',\n",
       "      'f1': '0.7'}, 'fairness_thresholds': {'balanced_accuracy': '0.8',\n",
       "      'balanced_acc_error': '0.7'}},\n",
       "    (('sex', 'female'),\n",
       "     ('race', 'African')): {'operational': {'accuracy': 'pass',\n",
       "      'precision': 'fail',\n",
       "      'recall': 'fail',\n",
       "      'f1': 'fail'}, 'fairness': {'balanced_accuracy': 'fail',\n",
       "      'balanced_acc_error': 'fail'}, 'operational_scores': {'accuracy': '0.7489280609814197',\n",
       "      'precision': '0.7172557172557172',\n",
       "      'recall': '0.46875',\n",
       "      'f1': '0.5669679539852095'}, 'fairness_scores': {'balanced_accuracy': '0.7377996756859551',\n",
       "      'balanced_acc_error': '0.022665006579405667'}, 'operational_thresholds': {'accuracy': '0.7',\n",
       "      'precision': '0.8',\n",
       "      'recall': '0.8',\n",
       "      'f1': '0.7'}, 'fairness_thresholds': {'balanced_accuracy': '0.8',\n",
       "      'balanced_acc_error': '0.7'}},\n",
       "    (('sex', 'female'),\n",
       "     ('race', 'Indian')): {'operational': {'accuracy': 'pass',\n",
       "      'precision': 'pass',\n",
       "      'recall': 'fail',\n",
       "      'f1': 'fail'}, 'fairness': {'balanced_accuracy': 'fail',\n",
       "      'balanced_acc_error': 'fail'}, 'operational_scores': {'accuracy': '0.7611869995289684',\n",
       "      'precision': '0.8018648018648019',\n",
       "      'recall': '0.4490861618798956',\n",
       "      'f1': '0.5757322175732219'}, 'fairness_scores': {'balanced_accuracy': '0.7763751400115037',\n",
       "      'balanced_acc_error': '0.02148787390423279'}, 'operational_thresholds': {'accuracy': '0.7',\n",
       "      'precision': '0.8',\n",
       "      'recall': '0.8',\n",
       "      'f1': '0.7'}, 'fairness_thresholds': {'balanced_accuracy': '0.8',\n",
       "      'balanced_acc_error': '0.7'}},\n",
       "    (('sex', 'male'),\n",
       "     ('race', 'Indian')): {'operational': {'accuracy': 'pass',\n",
       "      'precision': 'pass',\n",
       "      'recall': 'fail',\n",
       "      'f1': 'fail'}, 'fairness': {'balanced_accuracy': 'pass',\n",
       "      'balanced_acc_error': 'fail'}, 'operational_scores': {'accuracy': '0.8402323892519971',\n",
       "      'precision': '0.8647686832740213',\n",
       "      'recall': '0.571764705882353',\n",
       "      'f1': '0.6883852691218131'}, 'fairness_scores': {'balanced_accuracy': '0.8493551445567187',\n",
       "      'balanced_acc_error': '0.02282628571648792'}, 'operational_thresholds': {'accuracy': '0.7',\n",
       "      'precision': '0.8',\n",
       "      'recall': '0.8',\n",
       "      'f1': '0.7'}, 'fairness_thresholds': {'balanced_accuracy': '0.8',\n",
       "      'balanced_acc_error': '0.7'}}}}]}"
      ]
     },
     "execution_count": 16,
     "metadata": {},
     "output_type": "execute_result"
    }
   ],
   "source": [
    "results"
   ]
  },
  {
   "cell_type": "code",
   "execution_count": 17,
   "metadata": {},
   "outputs": [
    {
     "data": {
      "text/plain": [
       "{'operational': {'accuracy': 'pass',\n",
       "  'precision': 'pass',\n",
       "  'recall': 'fail',\n",
       "  'f1': 'pass'},\n",
       " 'fairness': {'balanced_accuracy': 'pass', 'balanced_acc_error': 'fail'},\n",
       " 'operational_scores': {'accuracy': '0.8390804597701149',\n",
       "  'precision': '0.8393939393939394',\n",
       "  'recall': '0.6183035714285714',\n",
       "  'f1': '0.712082262210797'},\n",
       " 'fairness_scores': {'balanced_accuracy': '0.8391884951206985',\n",
       "  'balanced_acc_error': '0.022682804847256332'},\n",
       " 'operational_thresholds': {'accuracy': '0.7',\n",
       "  'precision': '0.8',\n",
       "  'recall': '0.8',\n",
       "  'f1': '0.7'},\n",
       " 'fairness_thresholds': {'balanced_accuracy': '0.8',\n",
       "  'balanced_acc_error': '0.7'}}"
      ]
     },
     "execution_count": 17,
     "metadata": {},
     "output_type": "execute_result"
    }
   ],
   "source": [
    "results['result'][0]['subsets'][(('sex','male'),('race','American'))]"
   ]
  },
  {
   "cell_type": "code",
   "execution_count": null,
   "metadata": {},
   "outputs": [],
   "source": []
  }
 ],
 "metadata": {
  "kernelspec": {
   "display_name": "Python 3",
   "language": "python",
   "name": "python3"
  },
  "language_info": {
   "codemirror_mode": {
    "name": "ipython",
    "version": 3
   },
   "file_extension": ".py",
   "mimetype": "text/x-python",
   "name": "python",
   "nbconvert_exporter": "python",
   "pygments_lexer": "ipython3",
   "version": "3.10.12"
  },
  "orig_nbformat": 4
 },
 "nbformat": 4,
 "nbformat_minor": 2
}
